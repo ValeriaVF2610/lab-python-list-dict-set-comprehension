{
 "cells": [
  {
   "cell_type": "markdown",
   "id": "25d7736c-ba17-4aff-b6bb-66eba20fbf4e",
   "metadata": {},
   "source": [
    "# Lab | List, Dict and Set Comprehension"
   ]
  },
  {
   "cell_type": "markdown",
   "id": "7dd3cbde-675a-4b81-92c3-f728846dbe06",
   "metadata": {},
   "source": [
    "## Exercise: Managing Customer Orders Optimized with Comprehension"
   ]
  },
  {
   "cell_type": "markdown",
   "id": "5d500160-2fb7-4777-b5e4-09d45ebaf328",
   "metadata": {},
   "source": [
    "In the previous exercise, you developed a program to manage customer orders and inventory. Now, let's take it a step further and incorporate comprehension into your code.\n",
    "\n",
    "Follow the steps below to complete the exercise:\n",
    "\n",
    "1. Review your code from the previous exercise and identify areas where you can apply comprehension to simplify and streamline your code. \n",
    "\n",
    "    - *Hint: Apply it to initialize inventory, updating the inventory and printing the updated inventory.*\n",
    "    \n",
    "    - For example, in initializing the inventory, we could have:\n",
    "    \n",
    "        ```python\n",
    "        def initialize_inventory(products):\n",
    "            inventory = {product: int(input(f\"Enter the quantity of {product}s available: \")) for product in products}\n",
    "            return inventory\n",
    "\n",
    "        ```\n",
    "<br>\n",
    "    \n",
    "    \n",
    "2. Modify the function get_customer_orders so it prompts the user to enter the number of customer orders and gathers the product names using a loop and user input. Use comprehension.\n",
    "\n",
    "3. Add a new function to calculate the total price of the customer order. For each product in customer_orders, prompt the user to enter the price of that product. Use comprehension to calculate the total price. Note: assume that the user can only have 1 unit of each product.\n",
    "\n",
    "4. Modify the update_inventory function to remove the product from the inventory if its quantity becomes zero after fulfilling the customer orders. Use comprehension to filter out the products with a quantity of zero from the inventory.\n",
    "\n",
    "5. Print the total price of the customer order.\n",
    "\n",
    "Your code should produce output similar to the following:\n",
    "\n",
    "```python\n",
    "Enter the quantity of t-shirts available:  5\n",
    "Enter the quantity of mugs available:  4\n",
    "Enter the quantity of hats available:  3\n",
    "Enter the quantity of books available:  2\n",
    "Enter the quantity of keychains available:  1\n",
    "Enter the number of customer orders:  2\n",
    "Enter the name of a product that a customer wants to order:  hat\n",
    "Enter the name of a product that a customer wants to order:  keychain\n",
    "\n",
    "Order Statistics:\n",
    "Total Products Ordered: 2\n",
    "Percentage of Unique Products Ordered: 40.0\n",
    "\n",
    "Updated Inventory:\n",
    "t-shirt: 5\n",
    "mug: 4\n",
    "hat: 2\n",
    "book: 2\n",
    "Enter the price of keychain:  5\n",
    "Enter the price of hat:  10\n",
    "Total Price: 15.0\n",
    "\n",
    "```\n"
   ]
  },
  {
   "cell_type": "code",
   "execution_count": 84,
   "id": "d38cf9e0",
   "metadata": {},
   "outputs": [],
   "source": [
    "def initialize_inventory (products):\n",
    "    inventory = {product:int(input(f\"Indicate the quantity of {product}s available: \")) for product in products}\n",
    "    print(\"INITIAL INVENTORY\\n\")\n",
    "    for product, amount in inventory.items():\n",
    "        print(f\"Product: {product} - Amount: {amount}\")\n",
    "    return inventory"
   ]
  },
  {
   "cell_type": "code",
   "execution_count": 85,
   "id": "4c740365",
   "metadata": {},
   "outputs": [],
   "source": [
    "def get_customer_orders():\n",
    "    customer_orders = set()\n",
    "    [customer_orders.add(input(\"Input a product the costumer want to order:\").lower().strip()) for i in range(1,(int(input(\"Enter the number of customer orders:\")))+1)]\n",
    "    print(\"\\nOrder complete!\\n\")\n",
    "    for product in customer_orders:\n",
    "        print(f\"Product ordered: {product}\")    \n",
    "    return(customer_orders)\n"
   ]
  },
  {
   "cell_type": "code",
   "execution_count": 108,
   "id": "21abc82e",
   "metadata": {},
   "outputs": [],
   "source": [
    "def update_inventory(customer_orders, inventory):\n",
    "    updated_inventory = {product:inventory[product]-1 if product in customer_orders else inventory[product] for product in inventory}\n",
    "    cleaned_inventory = {product: quantity for product, quantity in updated_inventory.items() if quantity > 0}\n",
    "    return cleaned_inventory\n",
    "    "
   ]
  },
  {
   "cell_type": "code",
   "execution_count": 47,
   "id": "8fa98820",
   "metadata": {},
   "outputs": [],
   "source": [
    "def calculate_order_statistics(customer_orders, products):\n",
    "    order_status = []\n",
    "    amount_ordered = len(customer_orders)\n",
    "    amount_inventory = sum(inventory.values())\n",
    "\n",
    "    if amount_inventory > 0:\n",
    "        percentage_ordered = (amount_ordered * 100) / amount_inventory\n",
    "    else:\n",
    "        percentage_ordered = 0\n",
    "\n",
    "    order_status.append(amount_ordered)\n",
    "    order_status.append(percentage_ordered)\n",
    "    \n",
    "    return order_status"
   ]
  },
  {
   "cell_type": "code",
   "execution_count": 82,
   "id": "dea8bb3b",
   "metadata": {},
   "outputs": [],
   "source": [
    "def print_order_statistics(order_status):\n",
    "    amount_ordered = order_status[0]\n",
    "    percentage_ordered = order_status[1]\n",
    "    print(f\"\\nOrder Statistics:\\nTotal Products Ordered: {amount_ordered}\\nPercentage of Products Ordered: {percentage_ordered}%\")"
   ]
  },
  {
   "cell_type": "code",
   "execution_count": 86,
   "id": "53e7c6c8",
   "metadata": {},
   "outputs": [],
   "source": [
    "def print_updated_inventory(inventory):\n",
    "    print(\"\\nUPDATED INVENTORY\\n\")\n",
    "    [print(f\"Product: {product} - Amount: {amount}\") for product, amount in inventory.items()]"
   ]
  },
  {
   "cell_type": "code",
   "execution_count": 93,
   "id": "542fd916",
   "metadata": {},
   "outputs": [],
   "source": [
    "def calculate_total_price(customer_orders):\n",
    "    total_price = 0\n",
    "    for product in customer_orders:\n",
    "        price = float(input(f\"Please, enter the price of {product}\"))\n",
    "        total_price += price\n",
    "    print(f\"\\nTotal Price: {total_price}€\")\n",
    "    return total_price"
   ]
  },
  {
   "cell_type": "code",
   "execution_count": 104,
   "id": "0535ce6b",
   "metadata": {},
   "outputs": [],
   "source": [
    "def calculate_total_price(customer_orders):\n",
    "    total_price = 0\n",
    "    [total_price := (total_price + float(input(f\"Please, enter the price of {product}\"))) for product in customer_orders]\n",
    "    print(f\"\\nTotal Price: {total_price}€\")\n",
    "    return total_price"
   ]
  },
  {
   "cell_type": "code",
   "execution_count": 110,
   "id": "7d58a08b",
   "metadata": {},
   "outputs": [
    {
     "name": "stdout",
     "output_type": "stream",
     "text": [
      "INITIAL INVENTORY\n",
      "\n",
      "Product: t-shirt - Amount: 1\n",
      "Product: mug - Amount: 3\n",
      "Product: hat - Amount: 5\n",
      "Product: book - Amount: 4\n",
      "Product: keychain - Amount: 3\n",
      "\n",
      "Order complete!\n",
      "\n",
      "Product ordered: t-shirt\n",
      "Product ordered: book\n",
      "Product ordered: hat\n",
      "\n",
      "Total Price: 22.5€\n",
      "\n",
      "Order Statistics:\n",
      "Total Products Ordered: 3\n",
      "Percentage of Products Ordered: 18.75%\n",
      "\n",
      "UPDATED INVENTORY\n",
      "\n",
      "Product: mug - Amount: 3\n",
      "Product: hat - Amount: 4\n",
      "Product: book - Amount: 3\n",
      "Product: keychain - Amount: 3\n"
     ]
    }
   ],
   "source": [
    "products = [\"t-shirt\", \"mug\", \"hat\", \"book\", \"keychain\"]\n",
    "\n",
    "inventory = initialize_inventory(products)\n",
    "customer_orders = get_customer_orders()\n",
    "order_status = calculate_order_statistics(customer_orders, products)\n",
    "total_price = calculate_total_price(customer_orders)\n",
    "inventory = update_inventory(customer_orders,inventory)\n",
    "print_order_statistics(order_status)\n",
    "print_updated_inventory(inventory)\n"
   ]
  }
 ],
 "metadata": {
  "kernelspec": {
   "display_name": "Python 3 (ipykernel)",
   "language": "python",
   "name": "python3"
  },
  "language_info": {
   "codemirror_mode": {
    "name": "ipython",
    "version": 3
   },
   "file_extension": ".py",
   "mimetype": "text/x-python",
   "name": "python",
   "nbconvert_exporter": "python",
   "pygments_lexer": "ipython3",
   "version": "3.12.6"
  }
 },
 "nbformat": 4,
 "nbformat_minor": 5
}
